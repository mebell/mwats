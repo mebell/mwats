{
 "cells": [
  {
   "cell_type": "markdown",
   "metadata": {},
   "source": [
    "## Visualisation\n",
    "This code uses the output from MWATS_average_SQL and provides basic visualisation functionality. "
   ]
  },
  {
   "cell_type": "code",
   "execution_count": 20,
   "metadata": {},
   "outputs": [],
   "source": [
    "from plots import *\n",
    "import pandas as pd\n",
    "import matplotlib.pyplot as plt "
   ]
  },
  {
   "cell_type": "code",
   "execution_count": 12,
   "metadata": {},
   "outputs": [],
   "source": [
    "# Load the data\n",
    "stats = pd.read_feather('stats_table.fth')\n",
    "filtered_raw_data = pd.read_feather('data.fth')\n",
    "filtered_avg_raw_data = pd.read_feather('avg_data.fth')"
   ]
  },
  {
   "cell_type": "markdown",
   "metadata": {},
   "source": [
    "### View interesting light-curves:"
   ]
  },
  {
   "cell_type": "code",
   "execution_count": 13,
   "metadata": {},
   "outputs": [
    {
     "data": {
      "text/plain": [
       "77"
      ]
     },
     "execution_count": 13,
     "metadata": {},
     "output_type": "execute_result"
    }
   ],
   "source": [
    "avg_sig_cut = 0.0\n",
    "avg_flux_cut = 1.0\n",
    "avg_Mod_cut =20.0\n",
    "Mod_cut = 0.0\n",
    "\n",
    "interesting = stats[ ( ( stats.avg_sig.abs() ) > avg_sig_cut )             \n",
    "             & (stats.mean_raw_peak_flux > avg_flux_cut)\n",
    "             & (stats.avg_Mod > avg_Mod_cut) \n",
    "             & (stats.Mod > Mod_cut) ]\n",
    "\n",
    "len(interesting) # How many objects we have in our cut."
   ]
  },
  {
   "cell_type": "code",
   "execution_count": 15,
   "metadata": {},
   "outputs": [
    {
     "ename": "TypeError",
     "evalue": "plot_lc() takes 1 positional argument but 2 were given",
     "output_type": "error",
     "traceback": [
      "\u001b[0;31m---------------------------------------------------------------------------\u001b[0m",
      "\u001b[0;31mTypeError\u001b[0m                                 Traceback (most recent call last)",
      "\u001b[0;32m<ipython-input-15-c88d31b64ce1>\u001b[0m in \u001b[0;36m<module>\u001b[0;34m\u001b[0m\n\u001b[1;32m      1\u001b[0m \u001b[0;31m# Make plots of those sources.\u001b[0m\u001b[0;34m\u001b[0m\u001b[0;34m\u001b[0m\u001b[0;34m\u001b[0m\u001b[0m\n\u001b[1;32m      2\u001b[0m \u001b[0;32mfor\u001b[0m \u001b[0mn\u001b[0m \u001b[0;32min\u001b[0m \u001b[0minteresting\u001b[0m\u001b[0;34m.\u001b[0m\u001b[0msource_id\u001b[0m\u001b[0;34m:\u001b[0m\u001b[0;34m\u001b[0m\u001b[0;34m\u001b[0m\u001b[0m\n\u001b[0;32m----> 3\u001b[0;31m     \u001b[0mplot_lc\u001b[0m\u001b[0;34m(\u001b[0m\u001b[0mn\u001b[0m\u001b[0;34m,\u001b[0m \u001b[0mfiltered_raw_data\u001b[0m\u001b[0;34m)\u001b[0m\u001b[0;34m\u001b[0m\u001b[0;34m\u001b[0m\u001b[0m\n\u001b[0m",
      "\u001b[0;31mTypeError\u001b[0m: plot_lc() takes 1 positional argument but 2 were given"
     ]
    }
   ],
   "source": [
    "# Make plots of those sources. \n",
    "for n in interesting.source_id:\n",
    "    plot_lc(n)"
   ]
  },
  {
   "cell_type": "code",
   "execution_count": null,
   "metadata": {},
   "outputs": [],
   "source": [
    "set_0 = stats[stats.mean_raw_peak_flux > 6.0]\n",
    "set_1 = stats[(stats.mean_raw_peak_flux > 2.0) & (stats.mean_raw_peak_flux < 6.0) ]\n",
    "set_2 = stats[(stats.mean_raw_peak_flux > 1.0) & (stats.mean_raw_peak_flux < 2.0) ]\n",
    "set_3 = stats[(stats.mean_raw_peak_flux > 0.5) & (stats.mean_raw_peak_flux < 1.0) ]\n",
    "set_4 = stats[(stats.mean_raw_peak_flux > 0.25) & (stats.mean_raw_peak_flux < 0.5) ]\n",
    "fig, ax = plt.subplots(figsize=(9, 7)) \n",
    "p1 = plt.hist(set_4.avg_sig,100, label=\"Mean =\"+str( np.mean (set_4.avg_sig)))\n",
    "p2 = plt.hist(set_3.avg_sig,100, label=\"Mean =\"+str( np.mean (set_3.avg_sig)))\n",
    "p3 = plt.hist(set_2.avg_sig,100, label=\"Mean =\"+str( np.mean (set_2.avg_sig)))\n",
    "p4 = plt.hist(set_1.avg_sig,50, label=\"Mean =\"+str( np.mean (set_1.avg_sig)))\n",
    "p5 = plt.hist(set_0.avg_sig,50, label=\"Mean =\"+str( np.mean (set_0.avg_sig)))\n",
    "plt.xlabel('Sig of gradient')\n",
    "plt.legend()"
   ]
  },
  {
   "cell_type": "code",
   "execution_count": null,
   "metadata": {},
   "outputs": [],
   "source": [
    "set_all_pos = stats[stats.avg_sig > 0]\n",
    "set_all_neg = stats[stats.avg_sig < 0]\n",
    "set_all_neg_mod = set_all_neg['avg_sig'].abs()\n",
    "\n",
    "plot_grad_set(set_all_pos, set_all_neg, set_all_neg_mod, 'All objects')"
   ]
  },
  {
   "cell_type": "code",
   "execution_count": 21,
   "metadata": {},
   "outputs": [
    {
     "ename": "NameError",
     "evalue": "name 'plt' is not defined",
     "output_type": "error",
     "traceback": [
      "\u001b[0;31m---------------------------------------------------------------------------\u001b[0m",
      "\u001b[0;31mNameError\u001b[0m                                 Traceback (most recent call last)",
      "\u001b[0;32m<ipython-input-21-1f1b13538bfc>\u001b[0m in \u001b[0;36m<module>\u001b[0;34m\u001b[0m\n\u001b[1;32m      1\u001b[0m \u001b[0mhigh_mod\u001b[0m \u001b[0;34m=\u001b[0m \u001b[0mstats\u001b[0m\u001b[0;34m[\u001b[0m\u001b[0;34m(\u001b[0m\u001b[0mstats\u001b[0m\u001b[0;34m.\u001b[0m\u001b[0mMod\u001b[0m \u001b[0;34m>\u001b[0m \u001b[0;36m40\u001b[0m\u001b[0;34m)\u001b[0m \u001b[0;34m&\u001b[0m \u001b[0;34m(\u001b[0m\u001b[0mstats\u001b[0m\u001b[0;34m.\u001b[0m\u001b[0mmean_raw_peak_flux\u001b[0m \u001b[0;34m>\u001b[0m \u001b[0;36m1.0\u001b[0m\u001b[0;34m)\u001b[0m\u001b[0;34m]\u001b[0m\u001b[0;34m\u001b[0m\u001b[0;34m\u001b[0m\u001b[0m\n\u001b[0;32m----> 2\u001b[0;31m \u001b[0mplot_mod_set\u001b[0m\u001b[0;34m(\u001b[0m\u001b[0mhigh_mod\u001b[0m\u001b[0;34m,\u001b[0m \u001b[0mlabel\u001b[0m\u001b[0;34m=\u001b[0m\u001b[0;34m'Pre Filtered Modulation > 20%'\u001b[0m\u001b[0;34m)\u001b[0m\u001b[0;34m\u001b[0m\u001b[0;34m\u001b[0m\u001b[0m\n\u001b[0m",
      "\u001b[0;32m~/Work/MWATS_Full/mwats/SQL/plots.py\u001b[0m in \u001b[0;36mplot_mod_set\u001b[0;34m(set, label)\u001b[0m\n\u001b[1;32m     49\u001b[0m \u001b[0;34m\u001b[0m\u001b[0m\n\u001b[1;32m     50\u001b[0m \u001b[0;31m################################################\u001b[0m\u001b[0;34m\u001b[0m\u001b[0;34m\u001b[0m\u001b[0;34m\u001b[0m\u001b[0m\n\u001b[0;32m---> 51\u001b[0;31m \u001b[0;31m# Function to plot modulation versus location.\u001b[0m\u001b[0;34m\u001b[0m\u001b[0;34m\u001b[0m\u001b[0;34m\u001b[0m\u001b[0m\n\u001b[0m\u001b[1;32m     52\u001b[0m \u001b[0;32mdef\u001b[0m \u001b[0mplot_mod_set\u001b[0m\u001b[0;34m(\u001b[0m\u001b[0mset\u001b[0m\u001b[0;34m,\u001b[0m \u001b[0mlabel\u001b[0m\u001b[0;34m)\u001b[0m\u001b[0;34m:\u001b[0m\u001b[0;34m\u001b[0m\u001b[0;34m\u001b[0m\u001b[0m\n\u001b[1;32m     53\u001b[0m     \u001b[0mfig\u001b[0m\u001b[0;34m,\u001b[0m \u001b[0max\u001b[0m \u001b[0;34m=\u001b[0m \u001b[0mplt\u001b[0m\u001b[0;34m.\u001b[0m\u001b[0msubplots\u001b[0m\u001b[0;34m(\u001b[0m\u001b[0mfigsize\u001b[0m\u001b[0;34m=\u001b[0m\u001b[0;34m(\u001b[0m\u001b[0;36m14\u001b[0m\u001b[0;34m,\u001b[0m \u001b[0;36m7\u001b[0m\u001b[0;34m)\u001b[0m\u001b[0;34m)\u001b[0m\u001b[0;34m\u001b[0m\u001b[0;34m\u001b[0m\u001b[0m\n",
      "\u001b[0;31mNameError\u001b[0m: name 'plt' is not defined"
     ]
    }
   ],
   "source": [
    "high_mod = stats[(stats.Mod > 40) & (stats.mean_raw_peak_flux > 1.0)]\n",
    "plot_mod_set(high_mod, label='Pre Filtered Modulation > 20%')"
   ]
  },
  {
   "cell_type": "code",
   "execution_count": null,
   "metadata": {},
   "outputs": [],
   "source": [
    "def write_mod(ra, dec):\n",
    "    rad = 400\n",
    "    colour_str = '# color = green'\n",
    "    f.write('circle('+str(ra)+','+str(dec)+','+str(rad)+'\\\") '+colour_str)\n",
    "    f.write('\\n')\n",
    "    \n",
    "def write_mod_2(ra, dec):\n",
    "    rad = 450\n",
    "    colour_str = '# color = red'\n",
    "    f.write('circle('+str(ra)+','+str(dec)+','+str(rad)+'\\\") '+colour_str)\n",
    "    f.write('\\n')    \n",
    "\n",
    "def write_line(ra1, dec1, ra2, dec2):\n",
    "    times = 1.00\n",
    "    f.write('line('+str(ra1)+','+str(dec1)+','+str(ra2*times)+','+str(dec2*times)+')')\n",
    "    f.write('\\n')\n",
    "    \n",
    "f  = open(\"close.reg\", \"w\")\n",
    "f.write('fk5')\n",
    "f.write('\\n')"
   ]
  },
  {
   "cell_type": "code",
   "execution_count": null,
   "metadata": {},
   "outputs": [],
   "source": [
    "close_ra = list(close_source.source_id_ra)\n",
    "close_dec = list(close_source.source_id_dec)\n",
    "close_ra_n = list(close_source.n_id1_ra)\n",
    "close_dec_n = list(close_source.n_id1_dec)\n",
    "for i in range(len(close_ra)):\n",
    "    write_mod(close_ra[i], close_dec[i])\n",
    "    write_mod_2(close_ra_n[i], close_dec_n[i])\n",
    "    write_line(close_ra[i], close_dec[i],close_ra_n[i], close_dec_n[i])"
   ]
  }
 ],
 "metadata": {
  "kernelspec": {
   "display_name": "Python 3",
   "language": "python",
   "name": "python3"
  },
  "language_info": {
   "codemirror_mode": {
    "name": "ipython",
    "version": 3
   },
   "file_extension": ".py",
   "mimetype": "text/x-python",
   "name": "python",
   "nbconvert_exporter": "python",
   "pygments_lexer": "ipython3",
   "version": "3.6.8"
  }
 },
 "nbformat": 4,
 "nbformat_minor": 2
}
