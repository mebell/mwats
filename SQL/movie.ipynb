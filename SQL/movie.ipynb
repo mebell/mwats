{
 "cells": [
  {
   "cell_type": "code",
   "execution_count": 4,
   "metadata": {},
   "outputs": [
    {
     "name": "stderr",
     "output_type": "stream",
     "text": [
      "/Users/134393/anaconda3/lib/python3.7/site-packages/mpl_toolkits/axes_grid/__init__.py:12: MatplotlibDeprecationWarning: \n",
      "The mpl_toolkits.axes_grid module was deprecated in Matplotlib 2.1 and will be removed two minor releases later. Use mpl_toolkits.axes_grid1 and mpl_toolkits.axisartist, which provide the same functionality instead.\n",
      "  obj_type='module')\n"
     ]
    },
    {
     "data": {
      "text/html": [
       "<style>.container { width:100% !important; }</style>"
      ],
      "text/plain": [
       "<IPython.core.display.HTML object>"
      ]
     },
     "metadata": {},
     "output_type": "display_data"
    }
   ],
   "source": [
    "import requests\n",
    "import numpy as np\n",
    "import plots as pl\n",
    "import pandas as pd\n",
    "import matplotlib.pyplot as plt \n",
    "import aplpy \n",
    "import os\n",
    "import matplotlib.image as mpimg\n",
    "import matplotlib.gridspec as gridspec\n",
    "from IPython.core.display import HTML\n",
    "display(HTML(\"<style>.container { width:100% !important; }</style>\"))\n",
    "\n",
    "from astropy.coordinates import ICRS, Galactic, FK4, FK5\n",
    "from astropy import units as u\n",
    "from astropy.coordinates import SkyCoord"
   ]
  },
  {
   "cell_type": "code",
   "execution_count": 5,
   "metadata": {},
   "outputs": [],
   "source": [
    "def get_image(source_id, big=None):\n",
    "    os.system('rm /Users/134393/Work/MWATS_Full/mwats/SQL/movies/*.png')\n",
    "    image_all = filtered_raw_data[filtered_raw_data.source_id == source_id].sort_values(by='jd').image\n",
    "    image_list = list(image_all)\n",
    "    for im in range(len(image_list)):\n",
    "        plt.figure(figsize=[10,12])\n",
    "        image = image_list[im]\n",
    "        s_stats = stats[stats.source_id == source_id]\n",
    "        grid = True\n",
    "        if big:\n",
    "           size=(1200, 1200)\n",
    "           im_rad = 8.0\n",
    "        else: \n",
    "           size=(1200, 1200)\n",
    "           im_rad = 1.0\n",
    "        dpi = 40\n",
    "        figure = aplpy.FITSFigure('/Volumes/BEL27A-BKP01/MWATS/'+image, dimensions=[0,1], north=False, slices=[0,0], auto_refresh=False, dpi = dpi, figsize = (size[0] / float(dpi), size[1] / float(dpi)))\n",
    "        ra = s_stats.ra.values[0]\n",
    "        dec = s_stats.dec.values[0]\n",
    "        circle_size = 1.0 # 1 degree circle\n",
    "        #figure.recenter(ra, dec, radius=im_rad, width=2.0, height=2.0)\n",
    "        figure.recenter(25.597096, -17.238552, radius=im_rad, width=2.0, height=2.0)\n",
    "        #figure.recenter(ra, dec, circle_size) \n",
    "        if grid:\n",
    "            try:\n",
    "                figure.add_grid()\n",
    "            except Exception as e:\n",
    "                logging.warn(\"APLpy error adding grid to image: {0}\".format(e))\n",
    "        # Adjust the axis labels, otherwise they overlap\n",
    "        # If the image is less than two arc minutes across, show seconds on the tick labels\n",
    "    \n",
    "        image_radius = circle_size\n",
    "        if image_radius < 1.0 / 60.0 * 2:\n",
    "                figure.tick_labels.set_xformat(\"hh:mm:ss\")\n",
    "                figure.tick_labels.set_yformat(\"dd:mm:ss\")\n",
    "        else:\n",
    "                figure.tick_labels.set_xformat(\"hh:mm\")\n",
    "                figure.tick_labels.set_yformat(\"dd:mm\")\n",
    "\n",
    "        figure.tick_labels.set_xformat(\"dd:mm\")\n",
    "        figure.tick_labels.set_yformat(\"dd:mm\")\n",
    "        figure.show_grayscale(pmin=5.0, pmax=98, invert=False)\n",
    "        #figure.add_colorbar()\n",
    "        # Show locations of the neighbours\n",
    "        #figure.show_rectangles(ra, dec, 0.1, 0.1, edgecolor='k', linewidth=2.0)\n",
    "        figure.show_rectangles(25.597096, -17.238552, 0.1, 0.1, edgecolor='r', linewidth=2.0)\n",
    "        n = neighbours[neighbours.source_id == source_id]\n",
    "        for num in range(5):\n",
    "            if num == 0:\n",
    "               neigh = n.n_id1.values[0]\n",
    "               nra  =  n.n_id1_ra.values[0]\n",
    "               ndec =  n.n_id1_dec.values[0]\n",
    "               colour = 'm'\n",
    "            if num == 1:\n",
    "               neigh = n.n_id2.values[0]\n",
    "               nra  =  n.n_id2_ra.values[0]\n",
    "               ndec =  n.n_id2_dec.values[0]\n",
    "               colour = 'y'\n",
    "            if num == 2:\n",
    "               neigh = n.n_id3.values[0]\n",
    "               nra  =  n.n_id3_ra.values[0]\n",
    "               ndec =  n.n_id3_dec.values[0]\n",
    "               colour = 'c'\n",
    "            if num == 3:\n",
    "               neigh = n.n_id4.values[0]\n",
    "               nra  =  n.n_id4_ra.values[0]\n",
    "               ndec =  n.n_id4_dec.values[0]\n",
    "               colour = 'b'\n",
    "            if num == 4:\n",
    "               neigh = n.n_id5.values[0]\n",
    "               nra  =  n.n_id5_ra.values[0]\n",
    "               ndec =  n.n_id5_dec.values[0]\n",
    "               colour = 'r'\n",
    "            figure.show_ellipses(nra, ndec, 0.1, 0.1, edgecolor=colour, linewidth=2.0)\n",
    "        figure.axis_labels.set_font(size = 30.0)\n",
    "        figure.tick_labels.set_font(size = 30.0)\n",
    "        figure.add_colorbar()\n",
    "        figure.colorbar.set_font(size = 30.0)\n",
    "        figure.colorbar.set_axis_label_font(size = 30.0)\n",
    "        figure.colorbar.set_axis_label_text('Jy / beam')\n",
    "        if im <= 9:\n",
    "           path = 'movies/00'+str(im)\n",
    "        elif im > 99:\n",
    "           path = 'movies/'+str(im)\n",
    "        else:\n",
    "           path = 'movies/0'+str(im)\n",
    "        figure.save(path+'.png')\n",
    "        plt.close()\n",
    "        figure.close()"
   ]
  },
  {
   "cell_type": "code",
   "execution_count": 6,
   "metadata": {},
   "outputs": [],
   "source": [
    "# Load the data\n",
    "stats = pd.read_feather('stats_table.fth')\n",
    "filtered_raw_data = pd.read_feather('data.fth')\n",
    "#filtered_raw_avg_data = pd.read_feather('avg_data.fth')\n",
    "neighbours = pd.read_feather('neighbours.fth')"
   ]
  },
  {
   "cell_type": "code",
   "execution_count": 7,
   "metadata": {
    "scrolled": false
   },
   "outputs": [
    {
     "name": "stdout",
     "output_type": "stream",
     "text": [
      "INFO: Setting slices=[0, 0] [aplpy.core]\n",
      "INFO: Auto-setting vmin to -2.659e-01 [aplpy.core]\n",
      "INFO: Auto-setting vmax to  4.811e-01 [aplpy.core]\n",
      "INFO: Setting slices=[0, 0] [aplpy.core]\n",
      "INFO: Auto-setting vmin to -2.640e-01 [aplpy.core]\n",
      "INFO: Auto-setting vmax to  4.774e-01 [aplpy.core]\n",
      "INFO: Setting slices=[0, 0] [aplpy.core]\n",
      "INFO: Auto-setting vmin to -2.612e-01 [aplpy.core]\n",
      "INFO: Auto-setting vmax to  4.731e-01 [aplpy.core]\n",
      "INFO: Setting slices=[0, 0] [aplpy.core]\n",
      "INFO: Auto-setting vmin to -2.622e-01 [aplpy.core]\n",
      "INFO: Auto-setting vmax to  4.756e-01 [aplpy.core]\n",
      "INFO: Setting slices=[0, 0] [aplpy.core]\n",
      "INFO: Auto-setting vmin to -2.526e-01 [aplpy.core]\n",
      "INFO: Auto-setting vmax to  4.607e-01 [aplpy.core]\n",
      "INFO: Setting slices=[0, 0] [aplpy.core]\n",
      "INFO: Auto-setting vmin to -2.646e-01 [aplpy.core]\n",
      "INFO: Auto-setting vmax to  4.787e-01 [aplpy.core]\n",
      "INFO: Setting slices=[0, 0] [aplpy.core]\n",
      "INFO: Auto-setting vmin to -2.629e-01 [aplpy.core]\n",
      "INFO: Auto-setting vmax to  4.746e-01 [aplpy.core]\n",
      "INFO: Setting slices=[0, 0] [aplpy.core]\n",
      "INFO: Auto-setting vmin to -2.528e-01 [aplpy.core]\n",
      "INFO: Auto-setting vmax to  4.591e-01 [aplpy.core]\n",
      "INFO: Setting slices=[0, 0] [aplpy.core]\n",
      "INFO: Auto-setting vmin to -2.609e-01 [aplpy.core]\n",
      "INFO: Auto-setting vmax to  4.749e-01 [aplpy.core]\n",
      "INFO: Setting slices=[0, 0] [aplpy.core]\n",
      "INFO: Auto-setting vmin to -2.612e-01 [aplpy.core]\n",
      "INFO: Auto-setting vmax to  4.759e-01 [aplpy.core]\n",
      "INFO: Setting slices=[0, 0] [aplpy.core]\n",
      "INFO: Auto-setting vmin to -2.652e-01 [aplpy.core]\n",
      "INFO: Auto-setting vmax to  4.818e-01 [aplpy.core]\n",
      "INFO: Setting slices=[0, 0] [aplpy.core]\n",
      "INFO: Auto-setting vmin to -2.728e-01 [aplpy.core]\n",
      "INFO: Auto-setting vmax to  4.941e-01 [aplpy.core]\n",
      "INFO: Setting slices=[0, 0] [aplpy.core]\n",
      "INFO: Auto-setting vmin to -2.793e-01 [aplpy.core]\n",
      "INFO: Auto-setting vmax to  5.030e-01 [aplpy.core]\n",
      "INFO: Setting slices=[0, 0] [aplpy.core]\n",
      "INFO: Auto-setting vmin to -2.803e-01 [aplpy.core]\n",
      "INFO: Auto-setting vmax to  5.037e-01 [aplpy.core]\n",
      "INFO: Setting slices=[0, 0] [aplpy.core]\n",
      "INFO: Auto-setting vmin to -2.765e-01 [aplpy.core]\n",
      "INFO: Auto-setting vmax to  4.964e-01 [aplpy.core]\n",
      "INFO: Setting slices=[0, 0] [aplpy.core]\n",
      "INFO: Auto-setting vmin to -2.765e-01 [aplpy.core]\n",
      "INFO: Auto-setting vmax to  4.970e-01 [aplpy.core]\n",
      "INFO: Setting slices=[0, 0] [aplpy.core]\n",
      "INFO: Auto-setting vmin to -2.758e-01 [aplpy.core]\n",
      "INFO: Auto-setting vmax to  4.950e-01 [aplpy.core]\n",
      "INFO: Setting slices=[0, 0] [aplpy.core]\n",
      "INFO: Auto-setting vmin to -2.763e-01 [aplpy.core]\n",
      "INFO: Auto-setting vmax to  4.963e-01 [aplpy.core]\n",
      "INFO: Setting slices=[0, 0] [aplpy.core]\n",
      "INFO: Auto-setting vmin to -2.745e-01 [aplpy.core]\n",
      "INFO: Auto-setting vmax to  4.922e-01 [aplpy.core]\n",
      "INFO: Setting slices=[0, 0] [aplpy.core]\n"
     ]
    },
    {
     "name": "stderr",
     "output_type": "stream",
     "text": [
      "/Users/134393/anaconda3/lib/python3.7/site-packages/matplotlib/pyplot.py:514: RuntimeWarning: More than 20 figures have been opened. Figures created through the pyplot interface (`matplotlib.pyplot.figure`) are retained until explicitly closed and may consume too much memory. (To control this warning, see the rcParam `figure.max_open_warning`).\n",
      "  max_open_warning, RuntimeWarning)\n"
     ]
    },
    {
     "name": "stdout",
     "output_type": "stream",
     "text": [
      "INFO: Auto-setting vmin to -2.625e-01 [aplpy.core]\n",
      "INFO: Auto-setting vmax to  4.742e-01 [aplpy.core]\n",
      "INFO: Setting slices=[0, 0] [aplpy.core]\n",
      "INFO: Auto-setting vmin to -2.727e-01 [aplpy.core]\n",
      "INFO: Auto-setting vmax to  4.887e-01 [aplpy.core]\n",
      "INFO: Setting slices=[0, 0] [aplpy.core]\n",
      "INFO: Auto-setting vmin to -2.632e-01 [aplpy.core]\n",
      "INFO: Auto-setting vmax to  4.718e-01 [aplpy.core]\n",
      "INFO: Setting slices=[0, 0] [aplpy.core]\n",
      "INFO: Auto-setting vmin to -2.740e-01 [aplpy.core]\n",
      "INFO: Auto-setting vmax to  4.906e-01 [aplpy.core]\n",
      "INFO: Setting slices=[0, 0] [aplpy.core]\n",
      "INFO: Auto-setting vmin to -2.654e-01 [aplpy.core]\n",
      "INFO: Auto-setting vmax to  4.801e-01 [aplpy.core]\n",
      "INFO: Setting slices=[0, 0] [aplpy.core]\n",
      "INFO: Auto-setting vmin to -2.740e-01 [aplpy.core]\n",
      "INFO: Auto-setting vmax to  4.937e-01 [aplpy.core]\n",
      "INFO: Setting slices=[0, 0] [aplpy.core]\n",
      "INFO: Auto-setting vmin to -2.639e-01 [aplpy.core]\n",
      "INFO: Auto-setting vmax to  4.762e-01 [aplpy.core]\n",
      "INFO: Setting slices=[0, 0] [aplpy.core]\n",
      "INFO: Auto-setting vmin to -2.788e-01 [aplpy.core]\n",
      "INFO: Auto-setting vmax to  5.016e-01 [aplpy.core]\n",
      "INFO: Setting slices=[0, 0] [aplpy.core]\n",
      "INFO: Auto-setting vmin to -2.876e-01 [aplpy.core]\n",
      "INFO: Auto-setting vmax to  5.152e-01 [aplpy.core]\n",
      "INFO: Setting slices=[0, 0] [aplpy.core]\n",
      "INFO: Auto-setting vmin to -3.416e-01 [aplpy.core]\n",
      "INFO: Auto-setting vmax to  6.104e-01 [aplpy.core]\n",
      "INFO: Setting slices=[0, 0] [aplpy.core]\n",
      "INFO: Auto-setting vmin to -3.414e-01 [aplpy.core]\n",
      "INFO: Auto-setting vmax to  6.097e-01 [aplpy.core]\n",
      "INFO: Setting slices=[0, 0] [aplpy.core]\n",
      "INFO: Auto-setting vmin to -3.319e-01 [aplpy.core]\n",
      "INFO: Auto-setting vmax to  5.917e-01 [aplpy.core]\n",
      "INFO: Setting slices=[0, 0] [aplpy.core]\n",
      "INFO: Auto-setting vmin to -3.329e-01 [aplpy.core]\n",
      "INFO: Auto-setting vmax to  5.969e-01 [aplpy.core]\n",
      "INFO: Setting slices=[0, 0] [aplpy.core]\n",
      "INFO: Auto-setting vmin to -3.222e-01 [aplpy.core]\n",
      "INFO: Auto-setting vmax to  5.769e-01 [aplpy.core]\n",
      "INFO: Setting slices=[0, 0] [aplpy.core]\n",
      "INFO: Auto-setting vmin to -3.218e-01 [aplpy.core]\n",
      "INFO: Auto-setting vmax to  5.771e-01 [aplpy.core]\n",
      "INFO: Setting slices=[0, 0] [aplpy.core]\n",
      "INFO: Auto-setting vmin to -3.232e-01 [aplpy.core]\n",
      "INFO: Auto-setting vmax to  5.758e-01 [aplpy.core]\n",
      "INFO: Setting slices=[0, 0] [aplpy.core]\n",
      "INFO: Auto-setting vmin to -3.204e-01 [aplpy.core]\n",
      "INFO: Auto-setting vmax to  5.709e-01 [aplpy.core]\n",
      "INFO: Setting slices=[0, 0] [aplpy.core]\n",
      "INFO: Auto-setting vmin to -3.196e-01 [aplpy.core]\n",
      "INFO: Auto-setting vmax to  5.700e-01 [aplpy.core]\n",
      "INFO: Setting slices=[0, 0] [aplpy.core]\n",
      "INFO: Auto-setting vmin to -3.162e-01 [aplpy.core]\n",
      "INFO: Auto-setting vmax to  5.666e-01 [aplpy.core]\n",
      "INFO: Setting slices=[0, 0] [aplpy.core]\n",
      "INFO: Auto-setting vmin to -3.194e-01 [aplpy.core]\n",
      "INFO: Auto-setting vmax to  5.709e-01 [aplpy.core]\n",
      "INFO: Setting slices=[0, 0] [aplpy.core]\n",
      "INFO: Auto-setting vmin to -3.249e-01 [aplpy.core]\n",
      "INFO: Auto-setting vmax to  5.826e-01 [aplpy.core]\n",
      "INFO: Setting slices=[0, 0] [aplpy.core]\n",
      "INFO: Auto-setting vmin to -3.233e-01 [aplpy.core]\n",
      "INFO: Auto-setting vmax to  5.764e-01 [aplpy.core]\n",
      "INFO: Setting slices=[0, 0] [aplpy.core]\n",
      "INFO: Auto-setting vmin to -3.524e-01 [aplpy.core]\n",
      "INFO: Auto-setting vmax to  6.269e-01 [aplpy.core]\n",
      "INFO: Setting slices=[0, 0] [aplpy.core]\n",
      "INFO: Auto-setting vmin to -4.830e-01 [aplpy.core]\n",
      "INFO: Auto-setting vmax to  8.510e-01 [aplpy.core]\n",
      "INFO: Setting slices=[0, 0] [aplpy.core]\n",
      "INFO: Auto-setting vmin to -4.810e-01 [aplpy.core]\n",
      "INFO: Auto-setting vmax to  8.472e-01 [aplpy.core]\n",
      "INFO: Setting slices=[0, 0] [aplpy.core]\n",
      "INFO: Auto-setting vmin to -4.770e-01 [aplpy.core]\n",
      "INFO: Auto-setting vmax to  8.421e-01 [aplpy.core]\n",
      "INFO: Setting slices=[0, 0] [aplpy.core]\n",
      "INFO: Auto-setting vmin to -4.808e-01 [aplpy.core]\n",
      "INFO: Auto-setting vmax to  8.432e-01 [aplpy.core]\n",
      "INFO: Setting slices=[0, 0] [aplpy.core]\n",
      "INFO: Auto-setting vmin to -4.829e-01 [aplpy.core]\n",
      "INFO: Auto-setting vmax to  8.484e-01 [aplpy.core]\n",
      "INFO: Setting slices=[0, 0] [aplpy.core]\n",
      "INFO: Auto-setting vmin to -4.910e-01 [aplpy.core]\n",
      "INFO: Auto-setting vmax to  8.618e-01 [aplpy.core]\n",
      "INFO: Setting slices=[0, 0] [aplpy.core]\n",
      "INFO: Auto-setting vmin to -2.554e-01 [aplpy.core]\n",
      "INFO: Auto-setting vmax to  4.618e-01 [aplpy.core]\n",
      "INFO: Setting slices=[0, 0] [aplpy.core]\n",
      "INFO: Auto-setting vmin to -2.585e-01 [aplpy.core]\n",
      "INFO: Auto-setting vmax to  4.665e-01 [aplpy.core]\n",
      "INFO: Setting slices=[0, 0] [aplpy.core]\n",
      "INFO: Auto-setting vmin to -2.566e-01 [aplpy.core]\n",
      "INFO: Auto-setting vmax to  4.634e-01 [aplpy.core]\n",
      "INFO: Setting slices=[0, 0] [aplpy.core]\n",
      "INFO: Auto-setting vmin to -2.522e-01 [aplpy.core]\n",
      "INFO: Auto-setting vmax to  4.572e-01 [aplpy.core]\n",
      "INFO: Setting slices=[0, 0] [aplpy.core]\n",
      "INFO: Auto-setting vmin to -2.559e-01 [aplpy.core]\n",
      "INFO: Auto-setting vmax to  4.624e-01 [aplpy.core]\n",
      "INFO: Setting slices=[0, 0] [aplpy.core]\n",
      "INFO: Auto-setting vmin to -2.510e-01 [aplpy.core]\n",
      "INFO: Auto-setting vmax to  4.518e-01 [aplpy.core]\n",
      "INFO: Setting slices=[0, 0] [aplpy.core]\n",
      "INFO: Auto-setting vmin to -2.511e-01 [aplpy.core]\n",
      "INFO: Auto-setting vmax to  4.547e-01 [aplpy.core]\n",
      "INFO: Setting slices=[0, 0] [aplpy.core]\n",
      "INFO: Auto-setting vmin to -2.501e-01 [aplpy.core]\n",
      "INFO: Auto-setting vmax to  4.530e-01 [aplpy.core]\n",
      "INFO: Setting slices=[0, 0] [aplpy.core]\n",
      "INFO: Auto-setting vmin to -2.488e-01 [aplpy.core]\n",
      "INFO: Auto-setting vmax to  4.505e-01 [aplpy.core]\n",
      "INFO: Setting slices=[0, 0] [aplpy.core]\n",
      "INFO: Auto-setting vmin to -2.518e-01 [aplpy.core]\n",
      "INFO: Auto-setting vmax to  4.559e-01 [aplpy.core]\n",
      "INFO: Setting slices=[0, 0] [aplpy.core]\n",
      "INFO: Auto-setting vmin to -2.577e-01 [aplpy.core]\n",
      "INFO: Auto-setting vmax to  4.669e-01 [aplpy.core]\n",
      "INFO: Setting slices=[0, 0] [aplpy.core]\n",
      "INFO: Auto-setting vmin to -2.664e-01 [aplpy.core]\n",
      "INFO: Auto-setting vmax to  4.796e-01 [aplpy.core]\n",
      "INFO: Setting slices=[0, 0] [aplpy.core]\n",
      "INFO: Auto-setting vmin to -2.395e-01 [aplpy.core]\n",
      "INFO: Auto-setting vmax to  4.304e-01 [aplpy.core]\n",
      "INFO: Setting slices=[0, 0] [aplpy.core]\n",
      "INFO: Auto-setting vmin to -2.389e-01 [aplpy.core]\n",
      "INFO: Auto-setting vmax to  4.285e-01 [aplpy.core]\n",
      "INFO: Setting slices=[0, 0] [aplpy.core]\n",
      "INFO: Auto-setting vmin to -2.354e-01 [aplpy.core]\n",
      "INFO: Auto-setting vmax to  4.232e-01 [aplpy.core]\n",
      "INFO: Setting slices=[0, 0] [aplpy.core]\n",
      "INFO: Auto-setting vmin to -2.336e-01 [aplpy.core]\n",
      "INFO: Auto-setting vmax to  4.196e-01 [aplpy.core]\n",
      "INFO: Setting slices=[0, 0] [aplpy.core]\n",
      "INFO: Auto-setting vmin to -2.309e-01 [aplpy.core]\n",
      "INFO: Auto-setting vmax to  4.156e-01 [aplpy.core]\n",
      "INFO: Setting slices=[0, 0] [aplpy.core]\n",
      "INFO: Auto-setting vmin to -2.300e-01 [aplpy.core]\n",
      "INFO: Auto-setting vmax to  4.144e-01 [aplpy.core]\n",
      "INFO: Setting slices=[0, 0] [aplpy.core]\n",
      "INFO: Auto-setting vmin to -2.254e-01 [aplpy.core]\n",
      "INFO: Auto-setting vmax to  4.062e-01 [aplpy.core]\n",
      "INFO: Setting slices=[0, 0] [aplpy.core]\n",
      "INFO: Auto-setting vmin to -2.250e-01 [aplpy.core]\n",
      "INFO: Auto-setting vmax to  4.032e-01 [aplpy.core]\n",
      "INFO: Setting slices=[0, 0] [aplpy.core]\n",
      "INFO: Auto-setting vmin to -2.301e-01 [aplpy.core]\n",
      "INFO: Auto-setting vmax to  4.136e-01 [aplpy.core]\n",
      "INFO: Setting slices=[0, 0] [aplpy.core]\n",
      "INFO: Auto-setting vmin to -2.245e-01 [aplpy.core]\n",
      "INFO: Auto-setting vmax to  4.056e-01 [aplpy.core]\n",
      "INFO: Setting slices=[0, 0] [aplpy.core]\n",
      "INFO: Auto-setting vmin to -2.299e-01 [aplpy.core]\n",
      "INFO: Auto-setting vmax to  4.150e-01 [aplpy.core]\n",
      "INFO: Setting slices=[0, 0] [aplpy.core]\n",
      "INFO: Auto-setting vmin to -2.522e-01 [aplpy.core]\n",
      "INFO: Auto-setting vmax to  4.536e-01 [aplpy.core]\n",
      "INFO: Setting slices=[0, 0] [aplpy.core]\n",
      "INFO: Auto-setting vmin to -2.506e-01 [aplpy.core]\n",
      "INFO: Auto-setting vmax to  4.503e-01 [aplpy.core]\n",
      "INFO: Setting slices=[0, 0] [aplpy.core]\n",
      "INFO: Auto-setting vmin to -2.525e-01 [aplpy.core]\n",
      "INFO: Auto-setting vmax to  4.522e-01 [aplpy.core]\n",
      "INFO: Setting slices=[0, 0] [aplpy.core]\n",
      "INFO: Auto-setting vmin to -2.526e-01 [aplpy.core]\n",
      "INFO: Auto-setting vmax to  4.526e-01 [aplpy.core]\n",
      "INFO: Setting slices=[0, 0] [aplpy.core]\n",
      "INFO: Auto-setting vmin to -2.503e-01 [aplpy.core]\n",
      "INFO: Auto-setting vmax to  4.504e-01 [aplpy.core]\n",
      "INFO: Setting slices=[0, 0] [aplpy.core]\n",
      "INFO: Auto-setting vmin to -2.442e-01 [aplpy.core]\n",
      "INFO: Auto-setting vmax to  4.389e-01 [aplpy.core]\n"
     ]
    },
    {
     "name": "stdout",
     "output_type": "stream",
     "text": [
      "INFO: Setting slices=[0, 0] [aplpy.core]\n",
      "INFO: Auto-setting vmin to -2.497e-01 [aplpy.core]\n",
      "INFO: Auto-setting vmax to  4.479e-01 [aplpy.core]\n",
      "INFO: Setting slices=[0, 0] [aplpy.core]\n",
      "INFO: Auto-setting vmin to -2.471e-01 [aplpy.core]\n",
      "INFO: Auto-setting vmax to  4.441e-01 [aplpy.core]\n",
      "INFO: Setting slices=[0, 0] [aplpy.core]\n",
      "INFO: Auto-setting vmin to -2.451e-01 [aplpy.core]\n",
      "INFO: Auto-setting vmax to  4.419e-01 [aplpy.core]\n",
      "INFO: Setting slices=[0, 0] [aplpy.core]\n",
      "INFO: Auto-setting vmin to -2.500e-01 [aplpy.core]\n",
      "INFO: Auto-setting vmax to  4.492e-01 [aplpy.core]\n",
      "INFO: Setting slices=[0, 0] [aplpy.core]\n",
      "INFO: Auto-setting vmin to -2.537e-01 [aplpy.core]\n",
      "INFO: Auto-setting vmax to  4.549e-01 [aplpy.core]\n",
      "INFO: Setting slices=[0, 0] [aplpy.core]\n",
      "INFO: Auto-setting vmin to -2.463e-01 [aplpy.core]\n",
      "INFO: Auto-setting vmax to  4.436e-01 [aplpy.core]\n",
      "INFO: Setting slices=[0, 0] [aplpy.core]\n",
      "INFO: Auto-setting vmin to -2.449e-01 [aplpy.core]\n",
      "INFO: Auto-setting vmax to  4.417e-01 [aplpy.core]\n",
      "INFO: Setting slices=[0, 0] [aplpy.core]\n",
      "INFO: Auto-setting vmin to -2.503e-01 [aplpy.core]\n",
      "INFO: Auto-setting vmax to  4.508e-01 [aplpy.core]\n",
      "INFO: Setting slices=[0, 0] [aplpy.core]\n",
      "INFO: Auto-setting vmin to -2.464e-01 [aplpy.core]\n",
      "INFO: Auto-setting vmax to  4.436e-01 [aplpy.core]\n",
      "INFO: Setting slices=[0, 0] [aplpy.core]\n",
      "INFO: Auto-setting vmin to -2.453e-01 [aplpy.core]\n",
      "INFO: Auto-setting vmax to  4.419e-01 [aplpy.core]\n",
      "INFO: Setting slices=[0, 0] [aplpy.core]\n",
      "INFO: Auto-setting vmin to -2.402e-01 [aplpy.core]\n",
      "INFO: Auto-setting vmax to  4.317e-01 [aplpy.core]\n",
      "INFO: Setting slices=[0, 0] [aplpy.core]\n",
      "INFO: Auto-setting vmin to -2.453e-01 [aplpy.core]\n",
      "INFO: Auto-setting vmax to  4.408e-01 [aplpy.core]\n",
      "INFO: Setting slices=[0, 0] [aplpy.core]\n",
      "INFO: Auto-setting vmin to -2.428e-01 [aplpy.core]\n",
      "INFO: Auto-setting vmax to  4.361e-01 [aplpy.core]\n",
      "INFO: Setting slices=[0, 0] [aplpy.core]\n",
      "INFO: Auto-setting vmin to -2.376e-01 [aplpy.core]\n",
      "INFO: Auto-setting vmax to  4.295e-01 [aplpy.core]\n",
      "INFO: Setting slices=[0, 0] [aplpy.core]\n",
      "INFO: Auto-setting vmin to -2.982e-01 [aplpy.core]\n",
      "INFO: Auto-setting vmax to  5.329e-01 [aplpy.core]\n",
      "INFO: Setting slices=[0, 0] [aplpy.core]\n",
      "INFO: Auto-setting vmin to -2.791e-01 [aplpy.core]\n",
      "INFO: Auto-setting vmax to  5.022e-01 [aplpy.core]\n",
      "INFO: Setting slices=[0, 0] [aplpy.core]\n",
      "INFO: Auto-setting vmin to -2.819e-01 [aplpy.core]\n",
      "INFO: Auto-setting vmax to  5.061e-01 [aplpy.core]\n",
      "INFO: Setting slices=[0, 0] [aplpy.core]\n",
      "INFO: Auto-setting vmin to -2.774e-01 [aplpy.core]\n",
      "INFO: Auto-setting vmax to  4.989e-01 [aplpy.core]\n",
      "INFO: Setting slices=[0, 0] [aplpy.core]\n",
      "INFO: Auto-setting vmin to -2.780e-01 [aplpy.core]\n",
      "INFO: Auto-setting vmax to  5.002e-01 [aplpy.core]\n",
      "INFO: Setting slices=[0, 0] [aplpy.core]\n",
      "INFO: Auto-setting vmin to -2.691e-01 [aplpy.core]\n",
      "INFO: Auto-setting vmax to  4.811e-01 [aplpy.core]\n",
      "INFO: Setting slices=[0, 0] [aplpy.core]\n",
      "INFO: Auto-setting vmin to -2.684e-01 [aplpy.core]\n",
      "INFO: Auto-setting vmax to  4.850e-01 [aplpy.core]\n",
      "INFO: Setting slices=[0, 0] [aplpy.core]\n",
      "INFO: Auto-setting vmin to -2.828e-01 [aplpy.core]\n",
      "INFO: Auto-setting vmax to  5.108e-01 [aplpy.core]\n",
      "INFO: Setting slices=[0, 0] [aplpy.core]\n",
      "INFO: Auto-setting vmin to -2.833e-01 [aplpy.core]\n",
      "INFO: Auto-setting vmax to  5.117e-01 [aplpy.core]\n",
      "INFO: Setting slices=[0, 0] [aplpy.core]\n",
      "INFO: Auto-setting vmin to -2.875e-01 [aplpy.core]\n",
      "INFO: Auto-setting vmax to  5.181e-01 [aplpy.core]\n",
      "INFO: Setting slices=[0, 0] [aplpy.core]\n",
      "INFO: Auto-setting vmin to -2.943e-01 [aplpy.core]\n",
      "INFO: Auto-setting vmax to  5.294e-01 [aplpy.core]\n",
      "INFO: Setting slices=[0, 0] [aplpy.core]\n",
      "INFO: Auto-setting vmin to -3.010e-01 [aplpy.core]\n",
      "INFO: Auto-setting vmax to  5.398e-01 [aplpy.core]\n"
     ]
    },
    {
     "data": {
      "text/plain": [
       "256"
      ]
     },
     "execution_count": 7,
     "metadata": {},
     "output_type": "execute_result"
    },
    {
     "data": {
      "text/plain": [
       "<Figure size 720x864 with 0 Axes>"
      ]
     },
     "metadata": {},
     "output_type": "display_data"
    },
    {
     "data": {
      "text/plain": [
       "<Figure size 720x864 with 0 Axes>"
      ]
     },
     "metadata": {},
     "output_type": "display_data"
    },
    {
     "data": {
      "text/plain": [
       "<Figure size 720x864 with 0 Axes>"
      ]
     },
     "metadata": {},
     "output_type": "display_data"
    },
    {
     "data": {
      "text/plain": [
       "<Figure size 720x864 with 0 Axes>"
      ]
     },
     "metadata": {},
     "output_type": "display_data"
    },
    {
     "data": {
      "text/plain": [
       "<Figure size 720x864 with 0 Axes>"
      ]
     },
     "metadata": {},
     "output_type": "display_data"
    },
    {
     "data": {
      "text/plain": [
       "<Figure size 720x864 with 0 Axes>"
      ]
     },
     "metadata": {},
     "output_type": "display_data"
    },
    {
     "data": {
      "text/plain": [
       "<Figure size 720x864 with 0 Axes>"
      ]
     },
     "metadata": {},
     "output_type": "display_data"
    },
    {
     "data": {
      "text/plain": [
       "<Figure size 720x864 with 0 Axes>"
      ]
     },
     "metadata": {},
     "output_type": "display_data"
    },
    {
     "data": {
      "text/plain": [
       "<Figure size 720x864 with 0 Axes>"
      ]
     },
     "metadata": {},
     "output_type": "display_data"
    },
    {
     "data": {
      "text/plain": [
       "<Figure size 720x864 with 0 Axes>"
      ]
     },
     "metadata": {},
     "output_type": "display_data"
    },
    {
     "data": {
      "text/plain": [
       "<Figure size 720x864 with 0 Axes>"
      ]
     },
     "metadata": {},
     "output_type": "display_data"
    },
    {
     "data": {
      "text/plain": [
       "<Figure size 720x864 with 0 Axes>"
      ]
     },
     "metadata": {},
     "output_type": "display_data"
    },
    {
     "data": {
      "text/plain": [
       "<Figure size 720x864 with 0 Axes>"
      ]
     },
     "metadata": {},
     "output_type": "display_data"
    },
    {
     "data": {
      "text/plain": [
       "<Figure size 720x864 with 0 Axes>"
      ]
     },
     "metadata": {},
     "output_type": "display_data"
    },
    {
     "data": {
      "text/plain": [
       "<Figure size 720x864 with 0 Axes>"
      ]
     },
     "metadata": {},
     "output_type": "display_data"
    },
    {
     "data": {
      "text/plain": [
       "<Figure size 720x864 with 0 Axes>"
      ]
     },
     "metadata": {},
     "output_type": "display_data"
    },
    {
     "data": {
      "text/plain": [
       "<Figure size 720x864 with 0 Axes>"
      ]
     },
     "metadata": {},
     "output_type": "display_data"
    },
    {
     "data": {
      "text/plain": [
       "<Figure size 720x864 with 0 Axes>"
      ]
     },
     "metadata": {},
     "output_type": "display_data"
    },
    {
     "data": {
      "text/plain": [
       "<Figure size 720x864 with 0 Axes>"
      ]
     },
     "metadata": {},
     "output_type": "display_data"
    },
    {
     "data": {
      "text/plain": [
       "<Figure size 720x864 with 0 Axes>"
      ]
     },
     "metadata": {},
     "output_type": "display_data"
    },
    {
     "data": {
      "text/plain": [
       "<Figure size 720x864 with 0 Axes>"
      ]
     },
     "metadata": {},
     "output_type": "display_data"
    },
    {
     "data": {
      "text/plain": [
       "<Figure size 720x864 with 0 Axes>"
      ]
     },
     "metadata": {},
     "output_type": "display_data"
    },
    {
     "data": {
      "text/plain": [
       "<Figure size 720x864 with 0 Axes>"
      ]
     },
     "metadata": {},
     "output_type": "display_data"
    },
    {
     "data": {
      "text/plain": [
       "<Figure size 720x864 with 0 Axes>"
      ]
     },
     "metadata": {},
     "output_type": "display_data"
    },
    {
     "data": {
      "text/plain": [
       "<Figure size 720x864 with 0 Axes>"
      ]
     },
     "metadata": {},
     "output_type": "display_data"
    },
    {
     "data": {
      "text/plain": [
       "<Figure size 720x864 with 0 Axes>"
      ]
     },
     "metadata": {},
     "output_type": "display_data"
    },
    {
     "data": {
      "text/plain": [
       "<Figure size 720x864 with 0 Axes>"
      ]
     },
     "metadata": {},
     "output_type": "display_data"
    },
    {
     "data": {
      "text/plain": [
       "<Figure size 720x864 with 0 Axes>"
      ]
     },
     "metadata": {},
     "output_type": "display_data"
    },
    {
     "data": {
      "text/plain": [
       "<Figure size 720x864 with 0 Axes>"
      ]
     },
     "metadata": {},
     "output_type": "display_data"
    },
    {
     "data": {
      "text/plain": [
       "<Figure size 720x864 with 0 Axes>"
      ]
     },
     "metadata": {},
     "output_type": "display_data"
    },
    {
     "data": {
      "text/plain": [
       "<Figure size 720x864 with 0 Axes>"
      ]
     },
     "metadata": {},
     "output_type": "display_data"
    },
    {
     "data": {
      "text/plain": [
       "<Figure size 720x864 with 0 Axes>"
      ]
     },
     "metadata": {},
     "output_type": "display_data"
    },
    {
     "data": {
      "text/plain": [
       "<Figure size 720x864 with 0 Axes>"
      ]
     },
     "metadata": {},
     "output_type": "display_data"
    },
    {
     "data": {
      "text/plain": [
       "<Figure size 720x864 with 0 Axes>"
      ]
     },
     "metadata": {},
     "output_type": "display_data"
    },
    {
     "data": {
      "text/plain": [
       "<Figure size 720x864 with 0 Axes>"
      ]
     },
     "metadata": {},
     "output_type": "display_data"
    },
    {
     "data": {
      "text/plain": [
       "<Figure size 720x864 with 0 Axes>"
      ]
     },
     "metadata": {},
     "output_type": "display_data"
    },
    {
     "data": {
      "text/plain": [
       "<Figure size 720x864 with 0 Axes>"
      ]
     },
     "metadata": {},
     "output_type": "display_data"
    },
    {
     "data": {
      "text/plain": [
       "<Figure size 720x864 with 0 Axes>"
      ]
     },
     "metadata": {},
     "output_type": "display_data"
    },
    {
     "data": {
      "text/plain": [
       "<Figure size 720x864 with 0 Axes>"
      ]
     },
     "metadata": {},
     "output_type": "display_data"
    },
    {
     "data": {
      "text/plain": [
       "<Figure size 720x864 with 0 Axes>"
      ]
     },
     "metadata": {},
     "output_type": "display_data"
    },
    {
     "data": {
      "text/plain": [
       "<Figure size 720x864 with 0 Axes>"
      ]
     },
     "metadata": {},
     "output_type": "display_data"
    },
    {
     "data": {
      "text/plain": [
       "<Figure size 720x864 with 0 Axes>"
      ]
     },
     "metadata": {},
     "output_type": "display_data"
    },
    {
     "data": {
      "text/plain": [
       "<Figure size 720x864 with 0 Axes>"
      ]
     },
     "metadata": {},
     "output_type": "display_data"
    },
    {
     "data": {
      "text/plain": [
       "<Figure size 720x864 with 0 Axes>"
      ]
     },
     "metadata": {},
     "output_type": "display_data"
    },
    {
     "data": {
      "text/plain": [
       "<Figure size 720x864 with 0 Axes>"
      ]
     },
     "metadata": {},
     "output_type": "display_data"
    },
    {
     "data": {
      "text/plain": [
       "<Figure size 720x864 with 0 Axes>"
      ]
     },
     "metadata": {},
     "output_type": "display_data"
    },
    {
     "data": {
      "text/plain": [
       "<Figure size 720x864 with 0 Axes>"
      ]
     },
     "metadata": {},
     "output_type": "display_data"
    },
    {
     "data": {
      "text/plain": [
       "<Figure size 720x864 with 0 Axes>"
      ]
     },
     "metadata": {},
     "output_type": "display_data"
    },
    {
     "data": {
      "text/plain": [
       "<Figure size 720x864 with 0 Axes>"
      ]
     },
     "metadata": {},
     "output_type": "display_data"
    },
    {
     "data": {
      "text/plain": [
       "<Figure size 720x864 with 0 Axes>"
      ]
     },
     "metadata": {},
     "output_type": "display_data"
    },
    {
     "data": {
      "text/plain": [
       "<Figure size 720x864 with 0 Axes>"
      ]
     },
     "metadata": {},
     "output_type": "display_data"
    },
    {
     "data": {
      "text/plain": [
       "<Figure size 720x864 with 0 Axes>"
      ]
     },
     "metadata": {},
     "output_type": "display_data"
    },
    {
     "data": {
      "text/plain": [
       "<Figure size 720x864 with 0 Axes>"
      ]
     },
     "metadata": {},
     "output_type": "display_data"
    },
    {
     "data": {
      "text/plain": [
       "<Figure size 720x864 with 0 Axes>"
      ]
     },
     "metadata": {},
     "output_type": "display_data"
    },
    {
     "data": {
      "text/plain": [
       "<Figure size 720x864 with 0 Axes>"
      ]
     },
     "metadata": {},
     "output_type": "display_data"
    },
    {
     "data": {
      "text/plain": [
       "<Figure size 720x864 with 0 Axes>"
      ]
     },
     "metadata": {},
     "output_type": "display_data"
    },
    {
     "data": {
      "text/plain": [
       "<Figure size 720x864 with 0 Axes>"
      ]
     },
     "metadata": {},
     "output_type": "display_data"
    },
    {
     "data": {
      "text/plain": [
       "<Figure size 720x864 with 0 Axes>"
      ]
     },
     "metadata": {},
     "output_type": "display_data"
    },
    {
     "data": {
      "text/plain": [
       "<Figure size 720x864 with 0 Axes>"
      ]
     },
     "metadata": {},
     "output_type": "display_data"
    },
    {
     "data": {
      "text/plain": [
       "<Figure size 720x864 with 0 Axes>"
      ]
     },
     "metadata": {},
     "output_type": "display_data"
    },
    {
     "data": {
      "text/plain": [
       "<Figure size 720x864 with 0 Axes>"
      ]
     },
     "metadata": {},
     "output_type": "display_data"
    },
    {
     "data": {
      "text/plain": [
       "<Figure size 720x864 with 0 Axes>"
      ]
     },
     "metadata": {},
     "output_type": "display_data"
    },
    {
     "data": {
      "text/plain": [
       "<Figure size 720x864 with 0 Axes>"
      ]
     },
     "metadata": {},
     "output_type": "display_data"
    },
    {
     "data": {
      "text/plain": [
       "<Figure size 720x864 with 0 Axes>"
      ]
     },
     "metadata": {},
     "output_type": "display_data"
    },
    {
     "data": {
      "text/plain": [
       "<Figure size 720x864 with 0 Axes>"
      ]
     },
     "metadata": {},
     "output_type": "display_data"
    },
    {
     "data": {
      "text/plain": [
       "<Figure size 720x864 with 0 Axes>"
      ]
     },
     "metadata": {},
     "output_type": "display_data"
    },
    {
     "data": {
      "text/plain": [
       "<Figure size 720x864 with 0 Axes>"
      ]
     },
     "metadata": {},
     "output_type": "display_data"
    },
    {
     "data": {
      "text/plain": [
       "<Figure size 720x864 with 0 Axes>"
      ]
     },
     "metadata": {},
     "output_type": "display_data"
    },
    {
     "data": {
      "text/plain": [
       "<Figure size 720x864 with 0 Axes>"
      ]
     },
     "metadata": {},
     "output_type": "display_data"
    },
    {
     "data": {
      "text/plain": [
       "<Figure size 720x864 with 0 Axes>"
      ]
     },
     "metadata": {},
     "output_type": "display_data"
    },
    {
     "data": {
      "text/plain": [
       "<Figure size 720x864 with 0 Axes>"
      ]
     },
     "metadata": {},
     "output_type": "display_data"
    },
    {
     "data": {
      "text/plain": [
       "<Figure size 720x864 with 0 Axes>"
      ]
     },
     "metadata": {},
     "output_type": "display_data"
    },
    {
     "data": {
      "text/plain": [
       "<Figure size 720x864 with 0 Axes>"
      ]
     },
     "metadata": {},
     "output_type": "display_data"
    },
    {
     "data": {
      "text/plain": [
       "<Figure size 720x864 with 0 Axes>"
      ]
     },
     "metadata": {},
     "output_type": "display_data"
    },
    {
     "data": {
      "text/plain": [
       "<Figure size 720x864 with 0 Axes>"
      ]
     },
     "metadata": {},
     "output_type": "display_data"
    },
    {
     "data": {
      "text/plain": [
       "<Figure size 720x864 with 0 Axes>"
      ]
     },
     "metadata": {},
     "output_type": "display_data"
    },
    {
     "data": {
      "text/plain": [
       "<Figure size 720x864 with 0 Axes>"
      ]
     },
     "metadata": {},
     "output_type": "display_data"
    },
    {
     "data": {
      "text/plain": [
       "<Figure size 720x864 with 0 Axes>"
      ]
     },
     "metadata": {},
     "output_type": "display_data"
    },
    {
     "data": {
      "text/plain": [
       "<Figure size 720x864 with 0 Axes>"
      ]
     },
     "metadata": {},
     "output_type": "display_data"
    },
    {
     "data": {
      "text/plain": [
       "<Figure size 720x864 with 0 Axes>"
      ]
     },
     "metadata": {},
     "output_type": "display_data"
    },
    {
     "data": {
      "text/plain": [
       "<Figure size 720x864 with 0 Axes>"
      ]
     },
     "metadata": {},
     "output_type": "display_data"
    },
    {
     "data": {
      "text/plain": [
       "<Figure size 720x864 with 0 Axes>"
      ]
     },
     "metadata": {},
     "output_type": "display_data"
    },
    {
     "data": {
      "text/plain": [
       "<Figure size 720x864 with 0 Axes>"
      ]
     },
     "metadata": {},
     "output_type": "display_data"
    },
    {
     "data": {
      "text/plain": [
       "<Figure size 720x864 with 0 Axes>"
      ]
     },
     "metadata": {},
     "output_type": "display_data"
    },
    {
     "data": {
      "text/plain": [
       "<Figure size 720x864 with 0 Axes>"
      ]
     },
     "metadata": {},
     "output_type": "display_data"
    },
    {
     "data": {
      "text/plain": [
       "<Figure size 720x864 with 0 Axes>"
      ]
     },
     "metadata": {},
     "output_type": "display_data"
    },
    {
     "data": {
      "text/plain": [
       "<Figure size 720x864 with 0 Axes>"
      ]
     },
     "metadata": {},
     "output_type": "display_data"
    },
    {
     "data": {
      "text/plain": [
       "<Figure size 720x864 with 0 Axes>"
      ]
     },
     "metadata": {},
     "output_type": "display_data"
    },
    {
     "data": {
      "text/plain": [
       "<Figure size 720x864 with 0 Axes>"
      ]
     },
     "metadata": {},
     "output_type": "display_data"
    },
    {
     "data": {
      "text/plain": [
       "<Figure size 720x864 with 0 Axes>"
      ]
     },
     "metadata": {},
     "output_type": "display_data"
    },
    {
     "data": {
      "text/plain": [
       "<Figure size 720x864 with 0 Axes>"
      ]
     },
     "metadata": {},
     "output_type": "display_data"
    },
    {
     "data": {
      "text/plain": [
       "<Figure size 720x864 with 0 Axes>"
      ]
     },
     "metadata": {},
     "output_type": "display_data"
    },
    {
     "data": {
      "text/plain": [
       "<Figure size 720x864 with 0 Axes>"
      ]
     },
     "metadata": {},
     "output_type": "display_data"
    },
    {
     "data": {
      "text/plain": [
       "<Figure size 720x864 with 0 Axes>"
      ]
     },
     "metadata": {},
     "output_type": "display_data"
    },
    {
     "data": {
      "text/plain": [
       "<Figure size 720x864 with 0 Axes>"
      ]
     },
     "metadata": {},
     "output_type": "display_data"
    },
    {
     "data": {
      "text/plain": [
       "<Figure size 720x864 with 0 Axes>"
      ]
     },
     "metadata": {},
     "output_type": "display_data"
    },
    {
     "data": {
      "text/plain": [
       "<Figure size 720x864 with 0 Axes>"
      ]
     },
     "metadata": {},
     "output_type": "display_data"
    },
    {
     "data": {
      "text/plain": [
       "<Figure size 720x864 with 0 Axes>"
      ]
     },
     "metadata": {},
     "output_type": "display_data"
    },
    {
     "data": {
      "text/plain": [
       "<Figure size 720x864 with 0 Axes>"
      ]
     },
     "metadata": {},
     "output_type": "display_data"
    },
    {
     "data": {
      "text/plain": [
       "<Figure size 720x864 with 0 Axes>"
      ]
     },
     "metadata": {},
     "output_type": "display_data"
    },
    {
     "data": {
      "text/plain": [
       "<Figure size 720x864 with 0 Axes>"
      ]
     },
     "metadata": {},
     "output_type": "display_data"
    },
    {
     "data": {
      "text/plain": [
       "<Figure size 720x864 with 0 Axes>"
      ]
     },
     "metadata": {},
     "output_type": "display_data"
    },
    {
     "data": {
      "text/plain": [
       "<Figure size 720x864 with 0 Axes>"
      ]
     },
     "metadata": {},
     "output_type": "display_data"
    }
   ],
   "source": [
    "source_id = 160820\n",
    "bigit=False\n",
    "get_image(source_id, big=bigit)\n",
    "os.system('ffmpeg -framerate 10 -i %03d.png -s:v 1280x720 -c:v libx264 -profile:v high -crf 1 -pix_fmt yuv420p /Users/134393/Work/MWATS_Full/mwats/SQL/movies/'+str(source_id)+'.mp4')"
   ]
  },
  {
   "cell_type": "code",
   "execution_count": 8,
   "metadata": {},
   "outputs": [
    {
     "data": {
      "text/plain": [
       "0"
      ]
     },
     "execution_count": 8,
     "metadata": {},
     "output_type": "execute_result"
    }
   ],
   "source": [
    "os.chdir('/Users/134393/Work/MWATS_Full/mwats/SQL/movies/')\n",
    "os.system('ffmpeg -framerate 10 -i %03d.png -s:v 1280x720 -c:v libx264 -profile:v high -crf 1 -pix_fmt yuv420p /Users/134393/Work/MWATS_Full/mwats/SQL/movies/'+str(source_id)+'.mp4')"
   ]
  },
  {
   "cell_type": "code",
   "execution_count": null,
   "metadata": {},
   "outputs": [],
   "source": []
  },
  {
   "cell_type": "code",
   "execution_count": null,
   "metadata": {},
   "outputs": [],
   "source": []
  },
  {
   "cell_type": "code",
   "execution_count": null,
   "metadata": {},
   "outputs": [],
   "source": []
  }
 ],
 "metadata": {
  "kernelspec": {
   "display_name": "Python 3",
   "language": "python",
   "name": "python3"
  },
  "language_info": {
   "codemirror_mode": {
    "name": "ipython",
    "version": 3
   },
   "file_extension": ".py",
   "mimetype": "text/x-python",
   "name": "python",
   "nbconvert_exporter": "python",
   "pygments_lexer": "ipython3",
   "version": "3.7.3"
  }
 },
 "nbformat": 4,
 "nbformat_minor": 2
}
