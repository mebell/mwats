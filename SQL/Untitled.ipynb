{
 "cells": [
  {
   "cell_type": "code",
   "execution_count": 2,
   "metadata": {},
   "outputs": [
    {
     "name": "stderr",
     "output_type": "stream",
     "text": [
      "/Users/134393/anaconda3/lib/python3.7/site-packages/mpl_toolkits/axes_grid/__init__.py:12: MatplotlibDeprecationWarning: \n",
      "The mpl_toolkits.axes_grid module was deprecated in Matplotlib 2.1 and will be removed two minor releases later. Use mpl_toolkits.axes_grid1 and mpl_toolkits.axisartist, which provide the same functionality instead.\n",
      "  obj_type='module')\n"
     ]
    },
    {
     "data": {
      "text/html": [
       "<style>.container { width:100% !important; }</style>"
      ],
      "text/plain": [
       "<IPython.core.display.HTML object>"
      ]
     },
     "metadata": {},
     "output_type": "display_data"
    }
   ],
   "source": [
    "import requests\n",
    "import numpy as np\n",
    "import plots as pl\n",
    "import pandas as pd\n",
    "import matplotlib.pyplot as plt \n",
    "import aplpy \n",
    "import os\n",
    "import matplotlib.image as mpimg\n",
    "import matplotlib.gridspec as gridspec\n",
    "from IPython.core.display import HTML\n",
    "display(HTML(\"<style>.container { width:100% !important; }</style>\"))\n",
    "\n",
    "from astropy.coordinates import ICRS, Galactic, FK4, FK5\n",
    "from astropy import units as u\n",
    "from astropy.coordinates import SkyCoord"
   ]
  },
  {
   "cell_type": "code",
   "execution_count": 1,
   "metadata": {},
   "outputs": [],
   "source": [
    "def get_small_image(source_id, n):\n",
    "    exists = os.path.isfile('scratch/'+str(source_id)+'.png')\n",
    "    if not exists:\n",
    "        # Select random image\n",
    "        plt.figure(figsize=[10,12])\n",
    "        image = filtered_raw_data[filtered_raw_data.source_id == source_id].image.sample(1).values[0]\n",
    "        s_stats = stats[stats.source_id == source_id]\n",
    "        grid = True\n",
    "        size=(500, 500)\n",
    "        dpi = 40\n",
    "        figure = aplpy.FITSFigure('/Volumes/BEL27A-BKP01/MWATS/'+image, dimensions=[0,1], slices=[0,0], auto_refresh=False, dpi = dpi, figsize = (size[0] / float(dpi), size[1] / float(dpi)))\n",
    "        ra = s_stats.ra.values[0]\n",
    "        dec = s_stats.dec.values[0]\n",
    "        circle_size = 1.0 # 1 degree circle\n",
    "        figure.recenter(ra, dec, radius=1.0, width=2.0, height=2.0)\n",
    "        #figure.recenter(ra, dec, circle_size) \n",
    "        if grid:\n",
    "            try:\n",
    "                figure.add_grid()\n",
    "            except Exception as e:\n",
    "                logging.warn(\"APLpy error adding grid to image: {0}\".format(e))\n",
    "        # Adjust the axis labels, otherwise they overlap\n",
    "        # If the image is less than two arc minutes across, show seconds on the tick labels\n",
    "    \n",
    "        image_radius = circle_size\n",
    "        if image_radius < 1.0 / 60.0 * 2:\n",
    "                figure.tick_labels.set_xformat(\"hh:mm:ss\")\n",
    "                figure.tick_labels.set_yformat(\"dd:mm:ss\")\n",
    "        else:\n",
    "                figure.tick_labels.set_xformat(\"hh:mm\")\n",
    "                figure.tick_labels.set_yformat(\"dd:mm\")\n",
    "\n",
    "        figure.tick_labels.set_xformat(\"dd:mm\")\n",
    "        figure.tick_labels.set_yformat(\"dd:mm\")\n",
    "        figure.show_grayscale(pmin=5.0, pmax=99.5, invert=False)\n",
    "        #figure.add_colorbar()\n",
    "        # Show locations of the neighbours\n",
    "        figure.show_rectangles(ra, dec, 0.1, 0.1, edgecolor='k', linewidth=2.0)\n",
    "        n = neighbours[neighbours.source_id == source_id]\n",
    "        for num in range(5):\n",
    "            if num == 0:\n",
    "               neigh = n.n_id1.values[0]\n",
    "               nra  =  n.n_id1_ra.values[0]\n",
    "               ndec =  n.n_id1_dec.values[0]\n",
    "               colour = 'm'\n",
    "            if num == 1:\n",
    "               neigh = n.n_id2.values[0]\n",
    "               nra  =  n.n_id2_ra.values[0]\n",
    "               ndec =  n.n_id2_dec.values[0]\n",
    "               colour = 'y'\n",
    "            if num == 2:\n",
    "               neigh = n.n_id3.values[0]\n",
    "               nra  =  n.n_id3_ra.values[0]\n",
    "               ndec =  n.n_id3_dec.values[0]\n",
    "               colour = 'c'\n",
    "            if num == 3:\n",
    "               neigh = n.n_id4.values[0]\n",
    "               nra  =  n.n_id4_ra.values[0]\n",
    "               ndec =  n.n_id4_dec.values[0]\n",
    "               colour = 'b'\n",
    "            if num == 4:\n",
    "               neigh = n.n_id5.values[0]\n",
    "               nra  =  n.n_id5_ra.values[0]\n",
    "               ndec =  n.n_id5_dec.values[0]\n",
    "               colour = 'r'\n",
    "            figure.show_ellipses(nra, ndec, 0.1, 0.1, edgecolor=colour, linewidth=2.0)\n",
    "        figure.axis_labels.set_font(size = 30.0)\n",
    "        figure.tick_labels.set_font(size = 30.0)\n",
    "        figure.add_colorbar()\n",
    "        figure.colorbar.set_font(size = 30.0)\n",
    "        figure.colorbar.set_axis_label_font(size = 30.0)\n",
    "        figure.colorbar.set_axis_label_text('Jy / beam')\n",
    "        figure.save('thumbs/'+str(source_id)+'.jpg')\n",
    "        figure.close()"
   ]
  },
  {
   "cell_type": "code",
   "execution_count": null,
   "metadata": {},
   "outputs": [],
   "source": []
  }
 ],
 "metadata": {
  "kernelspec": {
   "display_name": "Python 3",
   "language": "python",
   "name": "python3"
  },
  "language_info": {
   "codemirror_mode": {
    "name": "ipython",
    "version": 3
   },
   "file_extension": ".py",
   "mimetype": "text/x-python",
   "name": "python",
   "nbconvert_exporter": "python",
   "pygments_lexer": "ipython3",
   "version": "3.7.3"
  }
 },
 "nbformat": 4,
 "nbformat_minor": 2
}
