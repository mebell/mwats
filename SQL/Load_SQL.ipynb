{
 "cells": [
  {
   "cell_type": "markdown",
   "metadata": {},
   "source": [
    "<h1 style=\"font-family:Impact,Arial;font-size:50px\">Load SQL</h1>\n",
    "<p> This code loads the raw data from the VAST database. It uses a PSQL connection to pull the raw tables and columns, it then joins and converts the tables to usable format in Pandas in conjunction with the scripts in git. "
   ]
  },
  {
   "cell_type": "code",
   "execution_count": 87,
   "metadata": {},
   "outputs": [],
   "source": [
    "import math\n",
    "import pandas as pd\n",
    "import numpy as np\n",
    "import psycopg2 as pg\n",
    "import pandas.io.sql as psql"
   ]
  },
  {
   "cell_type": "code",
   "execution_count": 88,
   "metadata": {},
   "outputs": [],
   "source": [
    "# get connected to the database\n",
    "connection = pg.connect(\"dbname=postgres user=postgres password=sqg4179eq\")"
   ]
  },
  {
   "cell_type": "code",
   "execution_count": 89,
   "metadata": {},
   "outputs": [
    {
     "name": "stdout",
     "output_type": "stream",
     "text": [
      "CPU times: user 71.7 ms, sys: 41.1 ms, total: 113 ms\n",
      "Wall time: 630 ms\n"
     ]
    }
   ],
   "source": [
    "%%time\n",
    "image_table = psql.read_sql(\"SELECT id, rms, time, jd, cube_id, ra, dec, name FROM vast_image\", connection)\n",
    "image_table.columns = (['image_id', 'rms', 'time', 'jd', 'cube_id', 'im_ra', 'im_dec', 'image'])"
   ]
  },
  {
   "cell_type": "code",
   "execution_count": 90,
   "metadata": {},
   "outputs": [
    {
     "name": "stdout",
     "output_type": "stream",
     "text": [
      "CPU times: user 2min 54s, sys: 5min 19s, total: 8min 14s\n",
      "Wall time: 15min 44s\n"
     ]
    }
   ],
   "source": [
    "%%time\n",
    "dataframe = psql.read_sql('SELECT id, source_id, image_id, good_fit, ra, err_ra, dec, err_dec, bmaj, bmin, pa, raw_total_flux, err_raw_total_flux, raw_peak_flux, err_raw_peak_flux FROM vast_flux', connection)"
   ]
  },
  {
   "cell_type": "code",
   "execution_count": 91,
   "metadata": {},
   "outputs": [
    {
     "name": "stdout",
     "output_type": "stream",
     "text": [
      "CPU times: user 15.2 s, sys: 12 s, total: 27.2 s\n",
      "Wall time: 34.1 s\n"
     ]
    }
   ],
   "source": [
    "%%time\n",
    "raw_data = (pd.merge(dataframe, image_table, left_on='image_id', right_on='image_id'))"
   ]
  },
  {
   "cell_type": "code",
   "execution_count": 92,
   "metadata": {},
   "outputs": [],
   "source": [
    "def vectorized_distance_on_unit_sphere(df):\n",
    "    degrees_to_radians = np.pi/180.0\n",
    "    phi1 = df.dec*degrees_to_radians\n",
    "    phi2 = df.im_dec*degrees_to_radians\n",
    "\n",
    "    theta1 = df.ra*degrees_to_radians\n",
    "    theta2 = df.im_ra*degrees_to_radians\n",
    "    \n",
    "    cosine = (np.cos(phi1)*np.cos(phi2)*np.cos(theta1 - theta2) +\n",
    "           np.sin(phi1)*np.sin(phi2))\n",
    "    dist_from_centre = np.arccos(cosine)\n",
    "    return (dist_from_centre/3.142)*180"
   ]
  },
  {
   "cell_type": "markdown",
   "metadata": {},
   "source": [
    "## Conversions"
   ]
  },
  {
   "cell_type": "code",
   "execution_count": 93,
   "metadata": {},
   "outputs": [],
   "source": [
    "raw_data['raw_peak_flux'] = raw_data['raw_peak_flux']*(1.0/1000.0) # Conversion to Jy\n",
    "raw_data['err_raw_peak_flux'] = raw_data['err_raw_peak_flux']*(1.0/1000.0) # Conversion to Jy\n",
    "raw_data['datetime'] = pd.to_datetime(raw_data.time, utc=True)"
   ]
  },
  {
   "cell_type": "markdown",
   "metadata": {},
   "source": [
    "## Calculate the distance between the source and the image centre ( then create column)"
   ]
  },
  {
   "cell_type": "code",
   "execution_count": 94,
   "metadata": {},
   "outputs": [
    {
     "name": "stdout",
     "output_type": "stream",
     "text": [
      "CPU times: user 1.57 s, sys: 1.76 s, total: 3.33 s\n",
      "Wall time: 1.73 s\n"
     ]
    }
   ],
   "source": [
    "%%time\n",
    "raw_data['distance'] = vectorized_distance_on_unit_sphere(raw_data)"
   ]
  },
  {
   "cell_type": "markdown",
   "metadata": {},
   "source": [
    "## Add in the gains to the data file"
   ]
  },
  {
   "cell_type": "code",
   "execution_count": 95,
   "metadata": {},
   "outputs": [],
   "source": [
    "raw_data[\"image\"]= raw_data[\"image\"].str.split(\"[\").str.get(0) "
   ]
  },
  {
   "cell_type": "code",
   "execution_count": 96,
   "metadata": {},
   "outputs": [
    {
     "name": "stdout",
     "output_type": "stream",
     "text": [
      "CPU times: user 18.9 s, sys: 21.4 s, total: 40.3 s\n",
      "Wall time: 56.5 s\n"
     ]
    }
   ],
   "source": [
    "%%time\n",
    "gains = pd.read_table('../all_gains.txt', ',')\n",
    "raw_data = pd.merge(raw_data, gains, left_on='image', right_on='Image')"
   ]
  },
  {
   "cell_type": "code",
   "execution_count": 97,
   "metadata": {},
   "outputs": [],
   "source": [
    "raw_data = raw_data.drop('Image', 1)"
   ]
  },
  {
   "cell_type": "markdown",
   "metadata": {},
   "source": [
    "## Filter good fits only"
   ]
  },
  {
   "cell_type": "code",
   "execution_count": 98,
   "metadata": {},
   "outputs": [],
   "source": [
    "raw_data = raw_data[raw_data.good_fit == True]"
   ]
  },
  {
   "cell_type": "markdown",
   "metadata": {},
   "source": [
    "## Save the reduced data file"
   ]
  },
  {
   "cell_type": "code",
   "execution_count": 99,
   "metadata": {},
   "outputs": [
    {
     "name": "stdout",
     "output_type": "stream",
     "text": [
      "CPU times: user 9.22 s, sys: 21.8 s, total: 31.1 s\n",
      "Wall time: 37 s\n"
     ]
    }
   ],
   "source": [
    "%%time\n",
    "raw_data= raw_data.reset_index()\n",
    "raw_data.to_feather('mwats_raw_data_Mar_SQL.fth')"
   ]
  }
 ],
 "metadata": {
  "kernelspec": {
   "display_name": "Python 3",
   "language": "python",
   "name": "python3"
  },
  "language_info": {
   "codemirror_mode": {
    "name": "ipython",
    "version": 3
   },
   "file_extension": ".py",
   "mimetype": "text/x-python",
   "name": "python",
   "nbconvert_exporter": "python",
   "pygments_lexer": "ipython3",
   "version": "3.6.8"
  }
 },
 "nbformat": 4,
 "nbformat_minor": 2
}
